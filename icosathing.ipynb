{
 "cells": [
  {
   "cell_type": "code",
   "execution_count": 2,
   "metadata": {},
   "outputs": [],
   "source": [
    "verts = [\n",
    "    [1,2,3,6,4],   #0\n",
    "    [0,4,7,5,2],   #1\n",
    "    [0,1,5,8,3],   #2\n",
    "    [0,2,8,9,6],   #3\n",
    "    [0,6,10,7,1],  #4\n",
    "    [1,7,11,8,2],  #5\n",
    "    [0,3,9,10,4],  #6\n",
    "    [1,4,10,11,5], #7\n",
    "    [2,5,11,9,3],  #8\n",
    "    [3,8,11,10,6], #9\n",
    "    [4,6,9,11,7],  #10\n",
    "    [5,7,10,9,8],  #11\n",
    "]\n",
    "\n",
    "# rotation about 0\n",
    "rotation = [\n",
    "    0,  #0\n",
    "    4,  #1\n",
    "    1,  #2\n",
    "    2,  #3\n",
    "    6,  #4\n",
    "    7,  #5\n",
    "    3,  #6\n",
    "    10, #7\n",
    "    5,  #8\n",
    "    8,  #9\n",
    "    9,  #10\n",
    "    11, #11\n",
    "]\n",
    "\n",
    "# shift (rotation about 1)\n",
    "# 2 0 4 7 5 2, 6 10 11 8 3 6\n",
    "shift = [\n",
    "    2, #0\n",
    "    1, #1\n",
    "    5, #2\n",
    "    8, #3\n",
    "    0, #4\n",
    "    7, #5\n",
    "    3, #6\n",
    "    4, #7,\n",
    "    11, #8\n",
    "    9, #9\n",
    "    6, #10\n",
    "    10, #11\n",
    "]\n",
    "\n",
    "def ashift(state):\n",
    "    return tuple(state[i] for i in shift)\n",
    "\n",
    "def arot(state):\n",
    "    return tuple(state[i] for i in rotation)\n",
    "\n",
    "start = tuple(range(12))\n",
    "seen_verts = set()\n",
    "rotations=[]\n",
    "q = [start]\n",
    "while q:\n",
    "    curr = q.pop(0)\n",
    "    seen_verts.add(curr[0])\n",
    "    for i in range(5):\n",
    "        s = ashift(curr)\n",
    "        if s[0] not in seen_verts:\n",
    "            seen_verts.add(s[0])\n",
    "            q.append(s)\n",
    "        rotations.append(curr)\n",
    "        curr = arot(curr)"
   ]
  },
  {
   "cell_type": "code",
   "execution_count": 3,
   "metadata": {},
   "outputs": [
    {
     "name": "stdout",
     "output_type": "stream",
     "text": [
      "(0, 1, 2, 3, 4, 5, 6, 7, 8, 9, 10, 11)\n"
     ]
    },
    {
     "data": {
      "image/png": "[encoded data removed]",
      "text/plain": [
       "<drawSvg.raster.Raster at 0x7f39c292b0d0>"
      ]
     },
     "metadata": {},
     "output_type": "display_data"
    },
    {
     "name": "stdout",
     "output_type": "stream",
     "text": [
      "(0, 4, 1, 2, 6, 7, 3, 10, 5, 8, 9, 11)\n"
     ]
    },
    {
     "data": {
      "image/png": "[encoded data removed]",
      "text/plain": [
       "<drawSvg.raster.Raster at 0x7f39dc4f0dc0>"
      ]
     },
     "metadata": {},
     "output_type": "display_data"
    },
    {
     "name": "stdout",
     "output_type": "stream",
     "text": [
      "(0, 6, 4, 1, 3, 10, 2, 9, 7, 5, 8, 11)\n"
     ]
    },
    {
     "data": {
      "image/png": "[encoded data removed]",
      "text/plain": [
       "<drawSvg.raster.Raster at 0x7f39dc4cacd0>"
      ]
     },
     "metadata": {},
     "output_type": "display_data"
    },
    {
     "name": "stdout",
     "output_type": "stream",
     "text": [
      "(0, 3, 6, 4, 2, 9, 1, 8, 10, 7, 5, 11)\n"
     ]
    },
    {
     "data": {
      "image/png": "[encoded data removed]",
      "text/plain": [
       "<drawSvg.raster.Raster at 0x7f39dc4919a0>"
      ]
     },
     "metadata": {},
     "output_type": "display_data"
    },
    {
     "name": "stdout",
     "output_type": "stream",
     "text": [
      "(0, 2, 3, 6, 1, 8, 4, 5, 9, 10, 7, 11)\n"
     ]
    },
    {
     "data": {
      "image/png": "[encoded data removed]",
      "text/plain": [
       "<drawSvg.raster.Raster at 0x7f39dc500580>"
      ]
     },
     "metadata": {},
     "output_type": "display_data"
    },
    {
     "name": "stdout",
     "output_type": "stream",
     "text": [
      "(2, 1, 5, 8, 0, 7, 3, 4, 11, 9, 6, 10)\n"
     ]
    },
    {
     "data": {
      "image/png": "[encoded data removed]",
      "text/plain": [
       "<drawSvg.raster.Raster at 0x7f39dc4910a0>"
      ]
     },
     "metadata": {},
     "output_type": "display_data"
    },
    {
     "name": "stdout",
     "output_type": "stream",
     "text": [
      "(2, 0, 1, 5, 3, 4, 8, 6, 7, 11, 9, 10)\n"
     ]
    },
    {
     "data": {
      "image/png": "[encoded data removed]",
      "text/plain": [
       "<drawSvg.raster.Raster at 0x7f39dc4caa30>"
      ]
     },
     "metadata": {},
     "output_type": "display_data"
    },
    {
     "name": "stdout",
     "output_type": "stream",
     "text": [
      "(2, 3, 0, 1, 8, 6, 5, 9, 4, 7, 11, 10)\n"
     ]
    },
    {
     "data": {
      "image/png": "[encoded data removed]",
      "text/plain": [
       "<drawSvg.raster.Raster at 0x7f39dc454820>"
      ]
     },
     "metadata": {},
     "output_type": "display_data"
    },
    {
     "name": "stdout",
     "output_type": "stream",
     "text": [
      "(2, 8, 3, 0, 5, 9, 1, 11, 6, 4, 7, 10)\n"
     ]
    },
    {
     "data": {
      "image/png": "[encoded data removed]",
      "text/plain": [
       "<drawSvg.raster.Raster at 0x7f39dc491970>"
      ]
     },
     "metadata": {},
     "output_type": "display_data"
    },
    {
     "name": "stdout",
     "output_type": "stream",
     "text": [
      "(2, 5, 8, 3, 1, 11, 0, 7, 9, 6, 4, 10)\n"
     ]
    },
    {
     "data": {
      "image/png": "[encoded data removed]",
      "text/plain": [
       "<drawSvg.raster.Raster at 0x7f39c2927250>"
      ]
     },
     "metadata": {},
     "output_type": "display_data"
    },
    {
     "name": "stdout",
     "output_type": "stream",
     "text": [
      "(1, 4, 7, 5, 0, 10, 2, 6, 11, 8, 3, 9)\n"
     ]
    },
    {
     "data": {
      "image/png": "[encoded data removed]",
      "text/plain": [
       "<drawSvg.raster.Raster at 0x7f39dc491970>"
      ]
     },
     "metadata": {},
     "output_type": "display_data"
    },
    {
     "name": "stdout",
     "output_type": "stream",
     "text": [
      "(1, 0, 4, 7, 2, 6, 5, 3, 10, 11, 8, 9)\n"
     ]
    },
    {
     "data": {
      "image/png": "[encoded data removed]",
      "text/plain": [
       "<drawSvg.raster.Raster at 0x7f39dc491160>"
      ]
     },
     "metadata": {},
     "output_type": "display_data"
    },
    {
     "name": "stdout",
     "output_type": "stream",
     "text": [
      "(1, 2, 0, 4, 5, 3, 7, 8, 6, 10, 11, 9)\n"
     ]
    },
    {
     "data": {
      "image/png": "[encoded data removed]",
      "text/plain": [
       "<drawSvg.raster.Raster at 0x7f39dc4cad00>"
      ]
     },
     "metadata": {},
     "output_type": "display_data"
    },
    {
     "name": "stdout",
     "output_type": "stream",
     "text": [
      "(1, 5, 2, 0, 7, 8, 4, 11, 3, 6, 10, 9)\n"
     ]
    },
    {
     "data": {
      "image/png": "[encoded data removed]",
      "text/plain": [
       "<drawSvg.raster.Raster at 0x7f39c28ea5b0>"
      ]
     },
     "metadata": {},
     "output_type": "display_data"
    },
    {
     "name": "stdout",
     "output_type": "stream",
     "text": [
      "(1, 7, 5, 2, 4, 11, 0, 10, 8, 3, 6, 9)\n"
     ]
    },
    {
     "data": {
      "image/png": "[encoded data removed]",
      "text/plain": [
       "<drawSvg.raster.Raster at 0x7f39dc4917f0>"
      ]
     },
     "metadata": {},
     "output_type": "display_data"
    },
    {
     "name": "stdout",
     "output_type": "stream",
     "text": [
      "(4, 6, 10, 7, 0, 9, 1, 3, 11, 5, 2, 8)\n"
     ]
    },
    {
     "data": {
      "image/png": "[encoded data removed]",
      "text/plain": [
       "<drawSvg.raster.Raster at 0x7f39c28eaa00>"
      ]
     },
     "metadata": {},
     "output_type": "display_data"
    },
    {
     "name": "stdout",
     "output_type": "stream",
     "text": [
      "(4, 0, 6, 10, 1, 3, 7, 2, 9, 11, 5, 8)\n"
     ]
    },
    {
     "data": {
      "image/png": "[encoded data removed]",
      "text/plain": [
       "<drawSvg.raster.Raster at 0x7f39dc4cad00>"
      ]
     },
     "metadata": {},
     "output_type": "display_data"
    },
    {
     "name": "stdout",
     "output_type": "stream",
     "text": [
      "(4, 1, 0, 6, 7, 2, 10, 5, 3, 9, 11, 8)\n"
     ]
    },
    {
     "data": {
      "image/png": "[encoded data removed]",
      "text/plain": [
       "<drawSvg.raster.Raster at 0x7f39dc4910a0>"
      ]
     },
     "metadata": {},
     "output_type": "display_data"
    },
    {
     "name": "stdout",
     "output_type": "stream",
     "text": [
      "(4, 7, 1, 0, 10, 5, 6, 11, 2, 3, 9, 8)\n"
     ]
    },
    {
     "data": {
      "image/png": "[encoded data removed]",
      "text/plain": [
       "<drawSvg.raster.Raster at 0x7f39dc4917f0>"
      ]
     },
     "metadata": {},
     "output_type": "display_data"
    },
    {
     "name": "stdout",
     "output_type": "stream",
     "text": [
      "(4, 10, 7, 1, 6, 11, 0, 9, 5, 2, 3, 8)\n"
     ]
    },
    {
     "data": {
      "image/png": "[encoded data removed]",
      "text/plain": [
       "<drawSvg.raster.Raster at 0x7f39c28ea160>"
      ]
     },
     "metadata": {},
     "output_type": "display_data"
    },
    {
     "name": "stdout",
     "output_type": "stream",
     "text": [
      "(6, 3, 9, 10, 0, 8, 4, 2, 11, 7, 1, 5)\n"
     ]
    },
    {
     "data": {
      "image/png": "[encoded data removed]",
      "text/plain": [
       "<drawSvg.raster.Raster at 0x7f39c2927370>"
      ]
     },
     "metadata": {},
     "output_type": "display_data"
    },
    {
     "name": "stdout",
     "output_type": "stream",
     "text": [
      "(6, 0, 3, 9, 4, 2, 10, 1, 8, 11, 7, 5)\n"
     ]
    },
    {
     "data": {
      "image/png": "[encoded data removed]",
      "text/plain": [
       "<drawSvg.raster.Raster at 0x7f39c28eaa00>"
      ]
     },
     "metadata": {},
     "output_type": "display_data"
    },
    {
     "name": "stdout",
     "output_type": "stream",
     "text": [
      "(6, 4, 0, 3, 10, 1, 9, 7, 2, 8, 11, 5)\n"
     ]
    },
    {
     "data": {
      "image/png": "[encoded data removed]",
      "text/plain": [
       "<drawSvg.raster.Raster at 0x7f39dc491fd0>"
      ]
     },
     "metadata": {},
     "output_type": "display_data"
    },
    {
     "name": "stdout",
     "output_type": "stream",
     "text": [
      "(6, 10, 4, 0, 9, 7, 3, 11, 1, 2, 8, 5)\n"
     ]
    },
    {
     "data": {
      "image/png": "[encoded data removed]",
      "text/plain": [
       "<drawSvg.raster.Raster at 0x7f39c29273d0>"
      ]
     },
     "metadata": {},
     "output_type": "display_data"
    },
    {
     "name": "stdout",
     "output_type": "stream",
     "text": [
      "(6, 9, 10, 4, 3, 11, 0, 8, 7, 1, 2, 5)\n"
     ]
    },
    {
     "data": {
      "image/png": "[encoded data removed]",
      "text/plain": [
       "<drawSvg.raster.Raster at 0x7f39c28ea0d0>"
      ]
     },
     "metadata": {},
     "output_type": "display_data"
    },
    {
     "name": "stdout",
     "output_type": "stream",
     "text": [
      "(3, 2, 8, 9, 0, 5, 6, 1, 11, 10, 4, 7)\n"
     ]
    },
    {
     "data": {
      "image/png": "[encoded data removed]",
      "text/plain": [
       "<drawSvg.raster.Raster at 0x7f39c29271c0>"
      ]
     },
     "metadata": {},
     "output_type": "display_data"
    },
    {
     "name": "stdout",
     "output_type": "stream",
     "text": [
      "(3, 0, 2, 8, 6, 1, 9, 4, 5, 11, 10, 7)\n"
     ]
    },
    {
     "data": {
      "image/png": "[encoded data removed]",
      "text/plain": [
       "<drawSvg.raster.Raster at 0x7f39dc491fd0>"
      ]
     },
     "metadata": {},
     "output_type": "display_data"
    },
    {
     "name": "stdout",
     "output_type": "stream",
     "text": [
      "(3, 6, 0, 2, 9, 4, 8, 10, 1, 5, 11, 7)\n"
     ]
    },
    {
     "data": {
      "image/png": "[encoded data removed]",
      "text/plain": [
       "<drawSvg.raster.Raster at 0x7f39c28ea0d0>"
      ]
     },
     "metadata": {},
     "output_type": "display_data"
    },
    {
     "name": "stdout",
     "output_type": "stream",
     "text": [
      "(3, 9, 6, 0, 8, 10, 2, 11, 4, 1, 5, 7)\n"
     ]
    },
    {
     "data": {
      "image/png": "[encoded data removed]",
      "text/plain": [
       "<drawSvg.raster.Raster at 0x7f39dc4caca0>"
      ]
     },
     "metadata": {},
     "output_type": "display_data"
    },
    {
     "name": "stdout",
     "output_type": "stream",
     "text": [
      "(3, 8, 9, 6, 2, 11, 0, 5, 10, 4, 1, 7)\n"
     ]
    },
    {
     "data": {
      "image/png": "[encoded data removed]",
      "text/plain": [
       "<drawSvg.raster.Raster at 0x7f39dc491070>"
      ]
     },
     "metadata": {},
     "output_type": "display_data"
    },
    {
     "name": "stdout",
     "output_type": "stream",
     "text": [
      "(5, 1, 7, 11, 2, 4, 8, 0, 10, 9, 3, 6)\n"
     ]
    },
    {
     "data": {
      "image/png": "[encoded data removed]",
      "text/plain": [
       "<drawSvg.raster.Raster at 0x7f39c2895ee0>"
      ]
     },
     "metadata": {},
     "output_type": "display_data"
    },
    {
     "name": "stdout",
     "output_type": "stream",
     "text": [
      "(5, 2, 1, 7, 8, 0, 11, 3, 4, 10, 9, 6)\n"
     ]
    },
    {
     "data": {
      "image/png": "[encoded data removed]",
      "text/plain": [
       "<drawSvg.raster.Raster at 0x7f39c2895d90>"
      ]
     },
     "metadata": {},
     "output_type": "display_data"
    },
    {
     "name": "stdout",
     "output_type": "stream",
     "text": [
      "(5, 8, 2, 1, 11, 3, 7, 9, 0, 4, 10, 6)\n"
     ]
    },
    {
     "data": {
      "image/png": "[encoded data removed]",
      "text/plain": [
       "<drawSvg.raster.Raster at 0x7f39dc491fd0>"
      ]
     },
     "metadata": {},
     "output_type": "display_data"
    },
    {
     "name": "stdout",
     "output_type": "stream",
     "text": [
      "(5, 11, 8, 2, 7, 9, 1, 10, 3, 0, 4, 6)\n"
     ]
    },
    {
     "data": {
      "image/png": "[encoded data removed]",
      "text/plain": [
       "<drawSvg.raster.Raster at 0x7f39c29272b0>"
      ]
     },
     "metadata": {},
     "output_type": "display_data"
    },
    {
     "name": "stdout",
     "output_type": "stream",
     "text": [
      "(5, 7, 11, 8, 1, 10, 2, 4, 9, 3, 0, 6)\n"
     ]
    },
    {
     "data": {
      "image/png": "[encoded data removed]",
      "text/plain": [
       "<drawSvg.raster.Raster at 0x7f39c2895be0>"
      ]
     },
     "metadata": {},
     "output_type": "display_data"
    },
    {
     "name": "stdout",
     "output_type": "stream",
     "text": [
      "(8, 5, 11, 9, 2, 7, 3, 1, 10, 6, 0, 4)\n"
     ]
    },
    {
     "data": {
      "image/png": "[encoded data removed]",
      "text/plain": [
       "<drawSvg.raster.Raster at 0x7f39c2927220>"
      ]
     },
     "metadata": {},
     "output_type": "display_data"
    },
    {
     "name": "stdout",
     "output_type": "stream",
     "text": [
      "(8, 2, 5, 11, 3, 1, 9, 0, 7, 10, 6, 4)\n"
     ]
    },
    {
     "data": {
      "image/png": "[encoded data removed]",
      "text/plain": [
       "<drawSvg.raster.Raster at 0x7f39c28ea0d0>"
      ]
     },
     "metadata": {},
     "output_type": "display_data"
    },
    {
     "name": "stdout",
     "output_type": "stream",
     "text": [
      "(8, 3, 2, 5, 9, 0, 11, 6, 1, 7, 10, 4)\n"
     ]
    },
    {
     "data": {
      "image/png": "[encoded data removed]",
      "text/plain": [
       "<drawSvg.raster.Raster at 0x7f39dc4cacd0>"
      ]
     },
     "metadata": {},
     "output_type": "display_data"
    },
    {
     "name": "stdout",
     "output_type": "stream",
     "text": [
      "(8, 9, 3, 2, 11, 6, 5, 10, 0, 1, 7, 4)\n"
     ]
    },
    {
     "data": {
      "image/png": "[encoded data removed]",
      "text/plain": [
       "<drawSvg.raster.Raster at 0x7f39c292b0a0>"
      ]
     },
     "metadata": {},
     "output_type": "display_data"
    },
    {
     "name": "stdout",
     "output_type": "stream",
     "text": [
      "(8, 11, 9, 3, 5, 10, 2, 7, 6, 0, 1, 4)\n"
     ]
    },
    {
     "data": {
      "image/png": "[encoded data removed]",
      "text/plain": [
       "<drawSvg.raster.Raster at 0x7f39c2895b20>"
      ]
     },
     "metadata": {},
     "output_type": "display_data"
    },
    {
     "name": "stdout",
     "output_type": "stream",
     "text": [
      "(7, 4, 10, 11, 1, 6, 5, 0, 9, 8, 2, 3)\n"
     ]
    },
    {
     "data": {
      "image/png": "[encoded data removed]",
      "text/plain": [
       "<drawSvg.raster.Raster at 0x7f39dc4cac40>"
      ]
     },
     "metadata": {},
     "output_type": "display_data"
    },
    {
     "name": "stdout",
     "output_type": "stream",
     "text": [
      "(7, 1, 4, 10, 5, 0, 11, 2, 6, 9, 8, 3)\n"
     ]
    },
    {
     "data": {
      "image/png": "[encoded data removed]",
      "text/plain": [
       "<drawSvg.raster.Raster at 0x7f39c292b040>"
      ]
     },
     "metadata": {},
     "output_type": "display_data"
    },
    {
     "name": "stdout",
     "output_type": "stream",
     "text": [
      "(7, 5, 1, 4, 11, 2, 10, 8, 0, 6, 9, 3)\n"
     ]
    },
    {
     "data": {
      "image/png": "[encoded data removed]",
      "text/plain": [
       "<drawSvg.raster.Raster at 0x7f39dc4cabb0>"
      ]
     },
     "metadata": {},
     "output_type": "display_data"
    },
    {
     "name": "stdout",
     "output_type": "stream",
     "text": [
      "(7, 11, 5, 1, 10, 8, 4, 9, 2, 0, 6, 3)\n"
     ]
    },
    {
     "data": {
      "image/png": "[encoded data removed]",
      "text/plain": [
       "<drawSvg.raster.Raster at 0x7f39dc4ca760>"
      ]
     },
     "metadata": {},
     "output_type": "display_data"
    },
    {
     "name": "stdout",
     "output_type": "stream",
     "text": [
      "(7, 10, 11, 5, 4, 9, 1, 6, 8, 2, 0, 3)\n"
     ]
    },
    {
     "data": {
      "image/png": "[encoded data removed]",
      "text/plain": [
       "<drawSvg.raster.Raster at 0x7f39c28b4190>"
      ]
     },
     "metadata": {},
     "output_type": "display_data"
    },
    {
     "name": "stdout",
     "output_type": "stream",
     "text": [
      "(10, 6, 9, 11, 4, 3, 7, 0, 8, 5, 1, 2)\n"
     ]
    },
    {
     "data": {
      "image/png": "[encoded data removed]",
      "text/plain": [
       "<drawSvg.raster.Raster at 0x7f39c28b42b0>"
      ]
     },
     "metadata": {},
     "output_type": "display_data"
    },
    {
     "name": "stdout",
     "output_type": "stream",
     "text": [
      "(10, 4, 6, 9, 7, 0, 11, 1, 3, 8, 5, 2)\n"
     ]
    },
    {
     "data": {
      "image/png": "[encoded data removed]",
      "text/plain": [
       "<drawSvg.raster.Raster at 0x7f39c28b4dc0>"
      ]
     },
     "metadata": {},
     "output_type": "display_data"
    },
    {
     "name": "stdout",
     "output_type": "stream",
     "text": [
      "(10, 7, 4, 6, 11, 1, 9, 5, 0, 3, 8, 2)\n"
     ]
    },
    {
     "data": {
      "image/png": "[encoded data removed]",
      "text/plain": [
       "<drawSvg.raster.Raster at 0x7f39dc4caca0>"
      ]
     },
     "metadata": {},
     "output_type": "display_data"
    },
    {
     "name": "stdout",
     "output_type": "stream",
     "text": [
      "(10, 11, 7, 4, 9, 5, 6, 8, 1, 0, 3, 2)\n"
     ]
    },
    {
     "data": {
      "image/png": "[encoded data removed]",
      "text/plain": [
       "<drawSvg.raster.Raster at 0x7f39dc4cab80>"
      ]
     },
     "metadata": {},
     "output_type": "display_data"
    },
    {
     "name": "stdout",
     "output_type": "stream",
     "text": [
      "(10, 9, 11, 7, 6, 8, 4, 3, 5, 1, 0, 2)\n"
     ]
    },
    {
     "data": {
      "image/png": "[encoded data removed]",
      "text/plain": [
       "<drawSvg.raster.Raster at 0x7f39c28b4910>"
      ]
     },
     "metadata": {},
     "output_type": "display_data"
    },
    {
     "name": "stdout",
     "output_type": "stream",
     "text": [
      "(9, 3, 8, 11, 6, 2, 10, 0, 5, 7, 4, 1)\n"
     ]
    },
    {
     "data": {
      "image/png": "[encoded data removed]",
      "text/plain": [
       "<drawSvg.raster.Raster at 0x7f39dc4cac10>"
      ]
     },
     "metadata": {},
     "output_type": "display_data"
    },
    {
     "name": "stdout",
     "output_type": "stream",
     "text": [
      "(9, 6, 3, 8, 10, 0, 11, 4, 2, 5, 7, 1)\n"
     ]
    },
    {
     "data": {
      "image/png": "[encoded data removed]",
      "text/plain": [
       "<drawSvg.raster.Raster at 0x7f39dc4caca0>"
      ]
     },
     "metadata": {},
     "output_type": "display_data"
    },
    {
     "name": "stdout",
     "output_type": "stream",
     "text": [
      "(9, 10, 6, 3, 11, 4, 8, 7, 0, 2, 5, 1)\n"
     ]
    },
    {
     "data": {
      "image/png": "[encoded data removed]",
      "text/plain": [
       "<drawSvg.raster.Raster at 0x7f39dc4cab80>"
      ]
     },
     "metadata": {},
     "output_type": "display_data"
    },
    {
     "name": "stdout",
     "output_type": "stream",
     "text": [
      "(9, 11, 10, 6, 8, 7, 3, 5, 4, 0, 2, 1)\n"
     ]
    },
    {
     "data": {
      "image/png": "[encoded data removed]",
      "text/plain": [
       "<drawSvg.raster.Raster at 0x7f39c28951f0>"
      ]
     },
     "metadata": {},
     "output_type": "display_data"
    },
    {
     "name": "stdout",
     "output_type": "stream",
     "text": [
      "(9, 8, 11, 10, 3, 5, 6, 2, 7, 4, 0, 1)\n"
     ]
    },
    {
     "data": {
      "image/png": "[encoded data removed]",
      "text/plain": [
       "<drawSvg.raster.Raster at 0x7f39c2895310>"
      ]
     },
     "metadata": {},
     "output_type": "display_data"
    },
    {
     "name": "stdout",
     "output_type": "stream",
     "text": [
      "(11, 7, 10, 9, 5, 4, 8, 1, 6, 3, 2, 0)\n"
     ]
    },
    {
     "data": {
      "image/png": "[encoded data removed]",
      "text/plain": [
       "<drawSvg.raster.Raster at 0x7f39c28b4a30>"
      ]
     },
     "metadata": {},
     "output_type": "display_data"
    },
    {
     "name": "stdout",
     "output_type": "stream",
     "text": [
      "(11, 5, 7, 10, 8, 1, 9, 2, 4, 6, 3, 0)\n"
     ]
    },
    {
     "data": {
      "image/png": "[encoded data removed]",
      "text/plain": [
       "<drawSvg.raster.Raster at 0x7f39c28955b0>"
      ]
     },
     "metadata": {},
     "output_type": "display_data"
    },
    {
     "name": "stdout",
     "output_type": "stream",
     "text": [
      "(11, 8, 5, 7, 9, 2, 10, 3, 1, 4, 6, 0)\n"
     ]
    },
    {
     "data": {
      "image/png": "[encoded data removed]",
      "text/plain": [
       "<drawSvg.raster.Raster at 0x7f39c2895460>"
      ]
     },
     "metadata": {},
     "output_type": "display_data"
    },
    {
     "name": "stdout",
     "output_type": "stream",
     "text": [
      "(11, 9, 8, 5, 10, 3, 7, 6, 2, 1, 4, 0)\n"
     ]
    },
    {
     "data": {
      "image/png": "[encoded data removed]",
      "text/plain": [
       "<drawSvg.raster.Raster at 0x7f39c28b4be0>"
      ]
     },
     "metadata": {},
     "output_type": "display_data"
    },
    {
     "name": "stdout",
     "output_type": "stream",
     "text": [
      "(11, 10, 9, 8, 7, 6, 5, 4, 3, 2, 1, 0)\n"
     ]
    },
    {
     "data": {
      "image/png": "[encoded data removed]",
      "text/plain": [
       "<drawSvg.raster.Raster at 0x7f39dc491070>"
      ]
     },
     "metadata": {},
     "output_type": "display_data"
    }
   ],
   "source": [
    "def move(state, rotation):\n",
    "    return tuple(state[i] for i in rotation)\n",
    "from math import sin, cos, pi\n",
    "import drawSvg as draw\n",
    "def rect(percent, r):\n",
    "    return r*cos(percent*2*pi),r*sin(percent*2*pi)\n",
    "points = [\n",
    "    rect(1/12+1/3, 20),\n",
    "    rect(1/12, 20),\n",
    "    rect(1/12+2/3, 20),\n",
    "    rect(1/4+1/3, 35),\n",
    "    rect(1/4, 35),\n",
    "    rect(1/4-1/3, 35),\n",
    "    rect(1/12+1/3, 35),\n",
    "    rect(1/12, 35),\n",
    "    rect(1/12+2/3, 35),\n",
    "    rect(1/4+1/3, 20),\n",
    "    rect(1/4, 20),\n",
    "    rect(1/4+2/3, 20),\n",
    "]\n",
    "\n",
    "background = frozenset(map(frozenset, [\n",
    "    (9,10),\n",
    "    (10,11),\n",
    "    (11,9),\n",
    "    (10,4),\n",
    "    (10,6),\n",
    "    (10,7),\n",
    "    (9,8),\n",
    "    (9,6),\n",
    "    (9,3),\n",
    "    (11,8),\n",
    "    (11,7),\n",
    "    (11,5)\n",
    "]))\n",
    "\n",
    "arrow = draw.Marker(-0.1, -0.5, 0.9, 0.5, scale=4, orient='auto')\n",
    "\n",
    "def draw_all_lmao():\n",
    "    for i,rot in enumerate(rotations):\n",
    "        canvas = draw.Drawing(100, 100,origin='center', displayInline=True)\n",
    "        for p in points:\n",
    "            canvas.append(draw.Circle(*p, 2, stroke='black'))\n",
    "        moved = move(points, rot)\n",
    "        canvas.append(draw.Line(*moved[0], *moved[1], stroke='red', marker_end=arrow))\n",
    "        canvas.append(draw.Line(*moved[1], *moved[2], stroke='blue', marker_end=arrow))\n",
    "        canvas.append(draw.Line(*moved[2], *moved[0], stroke='green', marker_end=arrow))\n",
    "        canvas.append(draw.Line(*moved[0], *moved[6], stroke='orange', marker_end=arrow))\n",
    "        canvas.append(draw.Line(*moved[1], *moved[7], stroke='magenta', marker_end=arrow))\n",
    "        canvas.append(draw.Line(*moved[2], *moved[8], stroke='cyan', marker_end=arrow))\n",
    "        print(rot)\n",
    "        display(canvas.rasterize())\n",
    "\n",
    "draw_all_lmao()"
   ]
  },
  {
   "cell_type": "code",
   "execution_count": 4,
   "metadata": {},
   "outputs": [],
   "source": [
    "class Graph:\n",
    "    def __init__(self, edges, parents=[]):\n",
    "        edges = frozenset(map(frozenset, edges))\n",
    "        self.edges = edges\n",
    "        self.verts = frozenset(v for edge in edges for v in edge)\n",
    "        self.variants = set()\n",
    "        self.parents = set(parents)\n",
    "        self.chash = None\n",
    "        \n",
    "    def display(self):\n",
    "        return Graph._display(self.edges)\n",
    "    \n",
    "    @staticmethod\n",
    "    def _display(edges):    \n",
    "        canvas = Graph._draw(edges)\n",
    "        display(canvas)\n",
    "        \n",
    "    @staticmethod\n",
    "    def _draw(edges):\n",
    "        canvas = draw.Drawing(100, 100, background='black',origin='center', displayInline=True)\n",
    "        canvas.append(draw.Rectangle(-50, -50, 100, 100, fill='white'))\n",
    "        for point in points:\n",
    "            canvas.append(draw.Circle(*point, 2, stroke='black'))\n",
    "        for edge in edges:\n",
    "            u,v = edge\n",
    "            if edge in background: \n",
    "                canvas.append(draw.Line(*points[u], *points[v], stroke='red', stroke_width=2, stroke_dasharray=\"3 2\"))\n",
    "            else:\n",
    "                canvas.append(draw.Line(*points[u], *points[v], stroke='red', stroke_width=2))\n",
    "        for edge in all_edges - edges:\n",
    "            u,v = edge\n",
    "            u,v = edge\n",
    "            if edge in background: \n",
    "                canvas.append(draw.Line(*points[u], *points[v], stroke='black', stroke_dasharray=\"3 2\"))\n",
    "            else:\n",
    "                canvas.append(draw.Line(*points[u], *points[v], stroke='black'))\n",
    "        return canvas\n",
    "        \n",
    "    def compute_variants(self):\n",
    "        if self.variants:\n",
    "            return\n",
    "        for rot in rotations:\n",
    "            redges = frozenset(map(frozenset, ((rot[u], rot[v]) for u,v in self.edges)))\n",
    "            self.variants.add(redges)\n",
    "        \n",
    "    def display_variants(self, path=None):\n",
    "        if not self.variants:\n",
    "            self.compute_variants()\n",
    "        print(len(self.variants))\n",
    "        for i, variant in enumerate(self.variants):\n",
    "            canvas = Graph._draw(variant)\n",
    "            if path:\n",
    "                import os\n",
    "                if not os.path.exists(path):\n",
    "                    os.mkdir(path)\n",
    "                canvas.savePng(path + '/{}.png'.format(i))\n",
    "            else:\n",
    "                display(canvas)\n",
    "                \n",
    "    def duplicate(self, edges):\n",
    "        if not self.variants:\n",
    "            self.compute_variants()\n",
    "        return edges in self.variants\n",
    "    \n",
    "    def generate_children(self):\n",
    "        curr_edges = list(self.edges)\n",
    "        for vert in self.verts:\n",
    "            for neighbor in verts[vert]:\n",
    "                edge = frozenset((vert, neighbor))\n",
    "                if edge not in self.edges:\n",
    "                    yield frozenset(curr_edges + [edge])\n",
    "                    \n",
    "    def __hash__(self):\n",
    "        if not self.chash:\n",
    "            if not self.variants:\n",
    "                self.compute_variants()\n",
    "            self.chash = hash(frozenset(self.variants))\n",
    "        return self.chash\n",
    "    \n",
    "    def __eq__(self, other):\n",
    "        self.compute_variants()\n",
    "        return other.edges in self.variants\n",
    "\n",
    "\n",
    "all_edges = set()\n",
    "for v, neighbors in enumerate(verts):\n",
    "    for n in neighbors:\n",
    "        all_edges.add(frozenset((v,n)))\n",
    "\n",
    "# Graph([(0,1), (1,2), (2,5), (5,8),(8,11),(11,9),(9,6),(6,0)]).display_variants('/home/chriskw/Pictures/zoogzig')\n",
    "# Graph([(0,1), (1,2), (2,0)]).display_variants('/home/chriskw/Pictures/trinagle')\n",
    "# Graph([(6,4), (4,7), (7,5), (5,8),(8,3),(3,6)]).display_variants()\n",
    "\n",
    "# [g.display() for g in Graph([(0,1)]).generate_children()]"
   ]
  },
  {
   "cell_type": "code",
   "execution_count": null,
   "metadata": {},
   "outputs": [
    {
     "name": "stdout",
     "output_type": "stream",
     "text": [
      "2 duplicates, 9 in next layer\n",
      "79 duplicates, 42 in next layer\n",
      "469 duplicates, 225 in next layer\n",
      "604 (396)\n",
      "908 (1092)\n",
      "1029 (1971)\n",
      "1066 (2934)\n",
      "3285 duplicates, 1070 in next layer\n",
      "744 (256)\n",
      "1413 (587)\n",
      "1974 (1026)\n",
      "2458 (1542)\n",
      "2839 (2161)\n",
      "3218 (2782)\n",
      "3499 (3501)\n",
      "3740 (4260)\n",
      "3949 (5051)\n",
      "4121 (5879)\n",
      "4297 (6703)\n",
      "4422 (7578)\n",
      "4523 (8477)\n",
      "4606 (9394)\n",
      "4676 (10324)\n",
      "4745 (11255)\n",
      "4798 (12202)\n",
      "4840 (13160)\n",
      "4866 (14134)\n",
      "4893 (15107)\n",
      "4905 (16095)\n",
      "4919 (17081)\n",
      "4922 (18078)\n",
      "18649 duplicates, 4926 in next layer\n",
      "743 (257)\n",
      "1462 (538)\n",
      "2151 (849)\n",
      "2812 (1188)\n",
      "3470 (1530)\n",
      "4103 (1897)\n",
      "4727 (2273)\n",
      "5294 (2706)\n",
      "5887 (3113)\n",
      "6461 (3539)\n",
      "6971 (4029)\n",
      "7491 (4509)\n",
      "8001 (4999)\n",
      "8504 (5496)\n",
      "8965 (6035)\n",
      "9420 (6580)\n"
     ]
    }
   ],
   "source": [
    "levels = [\n",
    "    [], #0\n",
    "    [Graph([(0,1)])]\n",
    "]\n",
    "levels.append([Graph([(0,1), (1,2)], parents=levels[-1])])\n",
    "\n",
    "for i in range(2, 11):\n",
    "    count = 0\n",
    "    next_level = set()\n",
    "    levels[i-1] = []\n",
    "    curr = levels[i]\n",
    "    for g in curr:\n",
    "        for child in g.generate_children():\n",
    "            for r in next_level:\n",
    "                if r.duplicate(child):\n",
    "                    count += 1\n",
    "                    break\n",
    "            else:\n",
    "                next_level.add(Graph(child))\n",
    "            if (len(next_level) + count) % 1000 == 0:\n",
    "                print(len(next_level), \"({})\".format(count))\n",
    "    print(\"{} duplicates, {} in next layer\".format(count, len(next_level)))\n",
    "    levels.append(next_level)\n",
    "list(map(lambda x: x.display(), levels[6]))"
   ]
  },
  {
   "cell_type": "code",
   "execution_count": null,
   "metadata": {},
   "outputs": [],
   "source": []
  }
 ],
 "metadata": {
  "kernelspec": {
   "display_name": "Python 3",
   "language": "python",
   "name": "python3"
  },
  "language_info": {
   "codemirror_mode": {
    "name": "ipython",
    "version": 3
   },
   "file_extension": ".py",
   "mimetype": "text/x-python",
   "name": "python",
   "nbconvert_exporter": "python",
   "pygments_lexer": "ipython3",
   "version": "3.9.2"
  }
 },
 "nbformat": 4,
 "nbformat_minor": 2
}
